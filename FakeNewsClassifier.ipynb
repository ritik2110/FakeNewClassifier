{
 "cells": [
  {
   "cell_type": "code",
   "execution_count": 1,
   "metadata": {},
   "outputs": [],
   "source": [
    "import pandas as pd\n",
    "import numpy as np"
   ]
  },
  {
   "cell_type": "code",
   "execution_count": 2,
   "metadata": {},
   "outputs": [],
   "source": [
    "x = pd.read_csv ('../../data/fakenewzz/train.csv')\n",
    "# y = pd.read_csv ('../../data/fakenewzz/test.csv')"
   ]
  },
  {
   "cell_type": "code",
   "execution_count": 3,
   "metadata": {},
   "outputs": [],
   "source": [
    "x = x.dropna()"
   ]
  },
  {
   "cell_type": "code",
   "execution_count": 4,
   "metadata": {},
   "outputs": [
    {
     "data": {
      "text/html": [
       "<div>\n",
       "<style scoped>\n",
       "    .dataframe tbody tr th:only-of-type {\n",
       "        vertical-align: middle;\n",
       "    }\n",
       "\n",
       "    .dataframe tbody tr th {\n",
       "        vertical-align: top;\n",
       "    }\n",
       "\n",
       "    .dataframe thead th {\n",
       "        text-align: right;\n",
       "    }\n",
       "</style>\n",
       "<table border=\"1\" class=\"dataframe\">\n",
       "  <thead>\n",
       "    <tr style=\"text-align: right;\">\n",
       "      <th></th>\n",
       "      <th>id</th>\n",
       "      <th>title</th>\n",
       "      <th>author</th>\n",
       "      <th>text</th>\n",
       "      <th>label</th>\n",
       "    </tr>\n",
       "  </thead>\n",
       "  <tbody>\n",
       "    <tr>\n",
       "      <th>0</th>\n",
       "      <td>0</td>\n",
       "      <td>House Dem Aide: We Didn’t Even See Comey’s Let...</td>\n",
       "      <td>Darrell Lucus</td>\n",
       "      <td>House Dem Aide: We Didn’t Even See Comey’s Let...</td>\n",
       "      <td>1</td>\n",
       "    </tr>\n",
       "    <tr>\n",
       "      <th>1</th>\n",
       "      <td>1</td>\n",
       "      <td>FLYNN: Hillary Clinton, Big Woman on Campus - ...</td>\n",
       "      <td>Daniel J. Flynn</td>\n",
       "      <td>Ever get the feeling your life circles the rou...</td>\n",
       "      <td>0</td>\n",
       "    </tr>\n",
       "    <tr>\n",
       "      <th>2</th>\n",
       "      <td>2</td>\n",
       "      <td>Why the Truth Might Get You Fired</td>\n",
       "      <td>Consortiumnews.com</td>\n",
       "      <td>Why the Truth Might Get You Fired October 29, ...</td>\n",
       "      <td>1</td>\n",
       "    </tr>\n",
       "    <tr>\n",
       "      <th>3</th>\n",
       "      <td>3</td>\n",
       "      <td>15 Civilians Killed In Single US Airstrike Hav...</td>\n",
       "      <td>Jessica Purkiss</td>\n",
       "      <td>Videos 15 Civilians Killed In Single US Airstr...</td>\n",
       "      <td>1</td>\n",
       "    </tr>\n",
       "  </tbody>\n",
       "</table>\n",
       "</div>"
      ],
      "text/plain": [
       "   id                                              title              author  \\\n",
       "0   0  House Dem Aide: We Didn’t Even See Comey’s Let...       Darrell Lucus   \n",
       "1   1  FLYNN: Hillary Clinton, Big Woman on Campus - ...     Daniel J. Flynn   \n",
       "2   2                  Why the Truth Might Get You Fired  Consortiumnews.com   \n",
       "3   3  15 Civilians Killed In Single US Airstrike Hav...     Jessica Purkiss   \n",
       "\n",
       "                                                text  label  \n",
       "0  House Dem Aide: We Didn’t Even See Comey’s Let...      1  \n",
       "1  Ever get the feeling your life circles the rou...      0  \n",
       "2  Why the Truth Might Get You Fired October 29, ...      1  \n",
       "3  Videos 15 Civilians Killed In Single US Airstr...      1  "
      ]
     },
     "execution_count": 4,
     "metadata": {},
     "output_type": "execute_result"
    }
   ],
   "source": [
    "x.head (4)"
   ]
  },
  {
   "cell_type": "code",
   "execution_count": 5,
   "metadata": {},
   "outputs": [],
   "source": [
    "y = x.label"
   ]
  },
  {
   "cell_type": "code",
   "execution_count": 6,
   "metadata": {},
   "outputs": [],
   "source": [
    "vocab_size = 7000"
   ]
  },
  {
   "cell_type": "code",
   "execution_count": 7,
   "metadata": {},
   "outputs": [],
   "source": [
    "import nltk\n",
    "import string\n",
    "import re\n",
    "from nltk.tokenize import word_tokenize\n",
    "from nltk.corpus import stopwords\n",
    "from nltk.stem import PorterStemmer, WordNetLemmatizer"
   ]
  },
  {
   "cell_type": "code",
   "execution_count": 8,
   "metadata": {},
   "outputs": [],
   "source": [
    "def text_preprocessing (txt):\n",
    "    txt = txt.lower()\n",
    "    # everthing excpect [a-zA-Z]\n",
    "    txt = re.sub('[^a-zA-z]', ' ',txt)\n",
    "    txt = txt.translate(str.maketrans ('', '', string.punctuation))\n",
    "    txt = txt.strip()\n",
    "\n",
    "    stop_words = set (stopwords.words('english'))\n",
    "\n",
    "    stemmer = PorterStemmer()\n",
    "    txt = stemmer.stem(txt)\n",
    "    lemmatizer = WordNetLemmatizer()\n",
    "    txt = lemmatizer.lemmatize(txt)\n",
    "\n",
    "    txt = word_tokenize(txt)\n",
    "\n",
    "    txt = [word for word in txt if word not in stop_words]\n",
    "    return ' '.join(txt)"
   ]
  },
  {
   "cell_type": "code",
   "execution_count": 9,
   "metadata": {},
   "outputs": [],
   "source": [
    "x.title = x.title.apply (text_preprocessing)"
   ]
  },
  {
   "cell_type": "code",
   "execution_count": 10,
   "metadata": {},
   "outputs": [],
   "source": [
    "corpus = (x.title).tolist()"
   ]
  },
  {
   "cell_type": "code",
   "execution_count": 11,
   "metadata": {},
   "outputs": [],
   "source": [
    "import tensorflow as tf"
   ]
  },
  {
   "cell_type": "code",
   "execution_count": 12,
   "metadata": {},
   "outputs": [],
   "source": [
    "onehot_rep = [tf.keras.preprocessing.text.one_hot(word, vocab_size) for word in corpus]"
   ]
  },
  {
   "cell_type": "code",
   "execution_count": 13,
   "metadata": {},
   "outputs": [
    {
     "name": "stdout",
     "output_type": "stream",
     "text": [
      "[650, 6778, 5623, 6624, 2101, 3309, 1818, 5025, 794, 4651, 2632, 5683, 531, 4306, 640, 2015, 1708, 1877, 1011, 2257, 6898, 5573, 531, 160, 3253, 259, 6372, 209, 818, 5425, 5674, 5060, 2304, 4875, 1687, 4601, 6463, 6774, 5969, 371, 6897, 2788, 6014, 3496, 3591, 4270, 1884]\n"
     ]
    }
   ],
   "source": [
    "for i in onehot_rep:\n",
    "    if len(i) == 47:\n",
    "        print (i)\n"
   ]
  },
  {
   "cell_type": "code",
   "execution_count": 14,
   "metadata": {},
   "outputs": [],
   "source": [
    "sent_len = [len(arr) for arr in onehot_rep]"
   ]
  },
  {
   "cell_type": "code",
   "execution_count": 15,
   "metadata": {},
   "outputs": [],
   "source": [
    "max_padding = sent_len[len(sent_len) - 1]"
   ]
  },
  {
   "cell_type": "code",
   "execution_count": 16,
   "metadata": {},
   "outputs": [],
   "source": [
    "padded_doc = tf.keras.preprocessing.sequence.pad_sequences(onehot_rep, maxlen = max_padding, padding = 'pre')"
   ]
  },
  {
   "cell_type": "code",
   "execution_count": 37,
   "metadata": {},
   "outputs": [],
   "source": [
    "embedding_vector_features = 47\r\n",
    "model = tf.keras.Sequential()\r\n",
    "model.add (tf.keras.layers.Embedding(vocab_size, embedding_vector_features, input_length = max_padding))\r\n",
    "model.add (tf.keras.layers.LSTM(64))\r\n",
    "model.add (tf.keras.layers.Dense(1, activation = 'sigmoid'))\r\n",
    "\r\n",
    "model.compile (loss = 'binary_crossentropy', optimizer = 'adam', metrics = 'accuracy')"
   ]
  },
  {
   "cell_type": "code",
   "execution_count": 33,
   "metadata": {},
   "outputs": [
    {
     "name": "stdout",
     "output_type": "stream",
     "text": [
      "Model: \"sequential_2\"\n",
      "_________________________________________________________________\n",
      "Layer (type)                 Output Shape              Param #   \n",
      "=================================================================\n",
      "embedding_2 (Embedding)      (None, 3, 47)             329000    \n",
      "_________________________________________________________________\n",
      "lstm_2 (LSTM)                (None, 64)                28672     \n",
      "_________________________________________________________________\n",
      "dense_2 (Dense)              (None, 1)                 65        \n",
      "=================================================================\n",
      "Total params: 357,737\n",
      "Trainable params: 357,737\n",
      "Non-trainable params: 0\n",
      "_________________________________________________________________\n"
     ]
    }
   ],
   "source": [
    "model.summary()"
   ]
  },
  {
   "cell_type": "code",
   "execution_count": 19,
   "metadata": {},
   "outputs": [],
   "source": [
    "import numpy as np\n",
    "x_final = np.array (padded_doc)\n",
    "y = np.array (y)"
   ]
  },
  {
   "cell_type": "code",
   "execution_count": 20,
   "metadata": {},
   "outputs": [
    {
     "data": {
      "text/plain": [
       "((18285, 3), (18285,))"
      ]
     },
     "execution_count": 20,
     "metadata": {},
     "output_type": "execute_result"
    }
   ],
   "source": [
    "x_final.shape, y.shape"
   ]
  },
  {
   "cell_type": "code",
   "execution_count": 21,
   "metadata": {},
   "outputs": [],
   "source": [
    "from sklearn.model_selection import train_test_split\n",
    "x_train, x_test, y_train, y_test = train_test_split (x_final, y, test_size = 0.33, random_state = 42)"
   ]
  },
  {
   "cell_type": "code",
   "execution_count": 38,
   "metadata": {},
   "outputs": [
    {
     "name": "stdout",
     "output_type": "stream",
     "text": [
      "Epoch 1/10\n",
      "48/48 [==============================] - 4s 30ms/step - loss: 0.6538 - accuracy: 0.6024 - val_loss: 0.4028 - val_accuracy: 0.8406\n",
      "Epoch 2/10\n",
      "48/48 [==============================] - 1s 16ms/step - loss: 0.3261 - accuracy: 0.8982 - val_loss: 0.2837 - val_accuracy: 0.8800\n",
      "Epoch 3/10\n",
      "48/48 [==============================] - 1s 16ms/step - loss: 0.1834 - accuracy: 0.9360 - val_loss: 0.2693 - val_accuracy: 0.8877\n",
      "Epoch 4/10\n",
      "48/48 [==============================] - 1s 16ms/step - loss: 0.1268 - accuracy: 0.9540 - val_loss: 0.2920 - val_accuracy: 0.8804\n",
      "Epoch 5/10\n",
      "48/48 [==============================] - 1s 17ms/step - loss: 0.1018 - accuracy: 0.9665 - val_loss: 0.3267 - val_accuracy: 0.8779\n",
      "Epoch 6/10\n",
      "48/48 [==============================] - 1s 16ms/step - loss: 0.0825 - accuracy: 0.9728 - val_loss: 0.3589 - val_accuracy: 0.8772\n",
      "Epoch 7/10\n",
      "48/48 [==============================] - 1s 16ms/step - loss: 0.0710 - accuracy: 0.9770 - val_loss: 0.3837 - val_accuracy: 0.8782\n",
      "Epoch 8/10\n",
      "48/48 [==============================] - 1s 16ms/step - loss: 0.0667 - accuracy: 0.9788 - val_loss: 0.4450 - val_accuracy: 0.8764\n",
      "Epoch 9/10\n",
      "48/48 [==============================] - 1s 17ms/step - loss: 0.0517 - accuracy: 0.9846 - val_loss: 0.4659 - val_accuracy: 0.8754\n",
      "Epoch 10/10\n",
      "48/48 [==============================] - 1s 16ms/step - loss: 0.0509 - accuracy: 0.9836 - val_loss: 0.5078 - val_accuracy: 0.8754\n"
     ]
    }
   ],
   "source": [
    "hist = model.fit(x_train, y_train, validation_data=(x_test, y_test), epochs=10, batch_size = 256)"
   ]
  },
  {
   "cell_type": "code",
   "execution_count": 39,
   "metadata": {},
   "outputs": [],
   "source": [
    "import matplotlib.pyplot as plt\r\n",
    "# plotting histroy w.r.t to a metric\r\n",
    "def graph_plotter (hist, metric):\r\n",
    "    plt.plot(hist.history[metric])\r\n",
    "    plt.plot(hist.history['val_'+metric])\r\n",
    "    plt.xlabel('epochs')\r\n",
    "    plt.ylabel('metrics')\r\n",
    "    plt.legend([metric, 'val_'+metric])"
   ]
  },
  {
   "cell_type": "code",
   "execution_count": 40,
   "metadata": {},
   "outputs": [
    {
     "data": {
      "image/png": "[encoded data removed]",
      "text/plain": [
       "<Figure size 432x288 with 1 Axes>"
      ]
     },
     "metadata": {
      "needs_background": "light"
     },
     "output_type": "display_data"
    }
   ],
   "source": [
    "graph_plotter(hist, metric='loss')"
   ]
  },
  {
   "cell_type": "code",
   "execution_count": null,
   "metadata": {},
   "outputs": [],
   "source": []
  }
 ],
 "metadata": {
  "interpreter": {
   "hash": "704a2bedef6accda5fc0e28f89690d920447c83af2a784c554859e0bb9447ab8"
  },
  "kernelspec": {
   "display_name": "Python 3.8.0 64-bit",
   "name": "python3"
  },
  "language_info": {
   "codemirror_mode": {
    "name": "ipython",
    "version": 3
   },
   "file_extension": ".py",
   "mimetype": "text/x-python",
   "name": "python",
   "nbconvert_exporter": "python",
   "pygments_lexer": "ipython3",
   "version": "3.8.0"
  },
  "metadata": {
   "interpreter": {
    "hash": "704a2bedef6accda5fc0e28f89690d920447c83af2a784c554859e0bb9447ab8"
   }
  },
  "orig_nbformat": 2
 },
 "nbformat": 4,
 "nbformat_minor": 2
}